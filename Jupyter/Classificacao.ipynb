{
 "cells": [
  {
   "cell_type": "code",
   "execution_count": 7,
   "id": "6209f0ce",
   "metadata": {},
   "outputs": [],
   "source": [
    "import pandas as pd\n",
    "import numpy as np\n",
    "import sys\n",
    "import os\n",
    "\n",
    "sys.path.append(os.path.abspath('..'))\n",
    "from processamento import df"
   ]
  },
  {
   "cell_type": "code",
   "execution_count": 13,
   "id": "53d99e01",
   "metadata": {},
   "outputs": [
    {
     "name": "stdout",
     "output_type": "stream",
     "text": [
      "Asthma: 10254\n",
      "Chronic obstructive pulmonary disease: 8485\n",
      "Doenças respiratórias: 18739\n"
     ]
    }
   ],
   "source": [
    "# Definir as doenças respiratórias\n",
    "respiratory_conditions = ['Asthma', 'Chronic obstructive pulmonary disease']\n",
    "\n",
    "# Criar o novo atributo RespDisease: 1 se for doença respiratória, 0 caso contrário\n",
    "df['RespDisease'] = df['Outcome'].apply(lambda x: 1 if x in respiratory_conditions else 0)\n",
    "\n",
    "# Contagem específica\n",
    "asthma_count = df['Outcome'].value_counts().get('Asthma', 0)\n",
    "copd_count = df['Outcome'].value_counts().get('Chronic obstructive pulmonary disease', 0)\n",
    "\n",
    "print(f\"Asthma: {asthma_count}\")\n",
    "print(f\"Chronic obstructive pulmonary disease: {copd_count}\")\n",
    "\n",
    "# Confirmar com RespDisease\n",
    "print(f\"Doenças respiratórias: {(df['RespDisease'] == 1).sum()}\")\n"
   ]
  }
 ],
 "metadata": {
  "kernelspec": {
   "display_name": "base",
   "language": "python",
   "name": "python3"
  },
  "language_info": {
   "codemirror_mode": {
    "name": "ipython",
    "version": 3
   },
   "file_extension": ".py",
   "mimetype": "text/x-python",
   "name": "python",
   "nbconvert_exporter": "python",
   "pygments_lexer": "ipython3",
   "version": "3.12.7"
  }
 },
 "nbformat": 4,
 "nbformat_minor": 5
}
