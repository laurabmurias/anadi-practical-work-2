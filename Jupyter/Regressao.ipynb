{
 "cells": [
  {
   "cell_type": "code",
   "execution_count": null,
   "id": "18fc90a1",
   "metadata": {},
   "outputs": [],
   "source": [
    "import warnings\n",
    "warnings.filterwarnings(\"ignore\")\n",
    "\n",
    "import pandas as pd\n",
    "import numpy as np\n",
    "import matplotlib.pyplot as plt\n",
    "import sys\n",
    "import os\n",
    "\n",
    "from sklearn.model_selection import KFold, cross_val_score\n",
    "from sklearn.linear_model import LinearRegression\n",
    "from sklearn.preprocessing import StandardScaler, OneHotEncoder\n",
    "from sklearn.compose import ColumnTransformer\n",
    "from sklearn.pipeline import Pipeline\n",
    "from sklearn.metrics import mean_absolute_error, mean_squared_error, r2_score\n",
    "from sklearn.tree import DecisionTreeRegressor, plot_tree\n",
    "\n",
    "sys.path.append(os.path.abspath('..'))\n",
    "from processamento import df, categorical_cols, numeric_cols"
   ]
  },
  {
   "cell_type": "code",
   "execution_count": null,
   "id": "457532b9",
   "metadata": {},
   "outputs": [],
   "source": [
    "# Considerar apenas Southern Europe\n",
    "df_southern = df[df['Region'] == 'Southern Europe']"
   ]
  },
  {
   "cell_type": "code",
   "execution_count": null,
   "id": "6dfd6959",
   "metadata": {},
   "outputs": [],
   "source": [
    "# ---------------- Definir o KFold (para todos os modelos) ----------------\n",
    "kf = KFold(n_splits=5, shuffle=True, random_state=42)"
   ]
  },
  {
   "cell_type": "code",
   "execution_count": null,
   "id": "5ca084d4",
   "metadata": {},
   "outputs": [],
   "source": [
    "# Variàvel alvo global\n",
    "y = df_southern['Premature_Deaths'].values"
   ]
  },
  {
   "cell_type": "markdown",
   "id": "4406a030",
   "metadata": {},
   "source": [
    "# **4.2.2 Modelos de regressão linear simples para prever mortes prematuras**"
   ]
  },
  {
   "cell_type": "markdown",
   "id": "0507b50e",
   "metadata": {},
   "source": [
    "#### Treino do modelo linear com K-Fold Cross Validation e função linear"
   ]
  },
  {
   "cell_type": "code",
   "execution_count": null,
   "id": "4c7cf976",
   "metadata": {},
   "outputs": [],
   "source": [
    "# Variável não global de interesse para a regressão linear simples\n",
    "X = df_southern[['Affected_Population']].values\n",
    "\n",
    "model = LinearRegression()\n",
    "\n",
    "mae_scores = []\n",
    "rmse_scores = []\n",
    "coefs = []\n",
    "intercepts = []\n",
    "\n",
    "for train_index, test_index in kf.split(X):\n",
    "    X_train, X_test = X[train_index], X[test_index]\n",
    "    y_train, y_test = y[train_index], y[test_index]\n",
    "    \n",
    "    model.fit(X_train, y_train)\n",
    "    \n",
    "    y_pred = model.predict(X_test)\n",
    "    \n",
    "    mae = mean_absolute_error(y_test, y_pred)\n",
    "    rmse = np.sqrt(mean_squared_error(y_test, y_pred))\n",
    "    \n",
    "    mae_scores.append(mae)\n",
    "    rmse_scores.append(rmse)\n",
    "    \n",
    "    coefs.append(model.coef_[0])\n",
    "    intercepts.append(model.intercept_)\n",
    "\n",
    "print(\"a) Função linear média resultante:\")\n",
    "print(f\"y = {np.mean(coefs):.6f} * X + {np.mean(intercepts):.4f}\")"
   ]
  },
  {
   "cell_type": "markdown",
   "id": "aed86757",
   "metadata": {},
   "source": [
    "#### Visualização: reta da regressão + diagrama de dispersão"
   ]
  },
  {
   "cell_type": "code",
   "execution_count": null,
   "id": "26ee2a2a",
   "metadata": {},
   "outputs": [],
   "source": [
    "# Ajustar no conjunto total para visualização\n",
    "model.fit(X, y)\n",
    "y_pred_all = model.predict(X)\n",
    "\n",
    "plt.figure(figsize=(10,6))\n",
    "plt.scatter(X, y, color='blue', label='Dados reais', alpha=0.6)\n",
    "plt.plot(X, y_pred_all, color='red', label='Regressão Linear')\n",
    "plt.xlabel('Affected Population')\n",
    "plt.ylabel('Premature Deaths')\n",
    "plt.title('Regressão Linear Simples: Affected Population vs Premature Deaths (Southern Europe)')\n",
    "plt.legend()\n",
    "plt.grid(True)\n",
    "plt.show()"
   ]
  },
  {
   "cell_type": "markdown",
   "id": "cdd7dcfd",
   "metadata": {},
   "source": [
    "#### Cálculo final de MAE e RMSE médios (validação cruzada)"
   ]
  },
  {
   "cell_type": "code",
   "execution_count": null,
   "id": "b84e1e18",
   "metadata": {},
   "outputs": [],
   "source": [
    "print(\"c) Erro Médio Absoluto (MAE): {:.2f}\".format(np.mean(mae_scores)))\n",
    "print(\"   Raiz do Erro Quadrático Médio (RMSE): {:.2f}\".format(np.mean(rmse_scores)))"
   ]
  },
  {
   "cell_type": "markdown",
   "id": "54ee4b7c",
   "metadata": {},
   "source": [
    "# **4.2.3 Desenvolver modelos para prever mortes prematuras**"
   ]
  },
  {
   "cell_type": "code",
   "execution_count": null,
   "id": "8f14b717",
   "metadata": {},
   "outputs": [],
   "source": [
    "preprocessor = ColumnTransformer(\n",
    "    transformers=[\n",
    "        ('num', StandardScaler(), numeric_cols),      # Normalização das variáveis numéricas\n",
    "        ('cat', OneHotEncoder(), categorical_cols)    # Codificação one-hot das variáveis categóricas\n",
    "    ]\n",
    ")"
   ]
  },
  {
   "cell_type": "markdown",
   "id": "ab3103f1",
   "metadata": {},
   "source": [
    "## a) Regressão linear múltipla."
   ]
  },
  {
   "cell_type": "code",
   "execution_count": null,
   "id": "d6e8b42f",
   "metadata": {},
   "outputs": [],
   "source": [
    "# Variável não global de interesse para a regressão linear múltipla\n",
    "X = df_southern.drop(columns=['Premature_Deaths'])\n",
    "\n",
    "# Modelo de regressão linear múltipla\n",
    "model_lr = LinearRegression()\n",
    "\n",
    "# Pipeline: pré-processamento + modelo\n",
    "pipeline_lrm = Pipeline(steps=[\n",
    "    ('preprocessor', preprocessor),\n",
    "    ('model', model_lr)\n",
    "])"
   ]
  },
  {
   "cell_type": "markdown",
   "id": "ef2bdb10",
   "metadata": {},
   "source": [
    "#### Treino do modelo de Regressão Linear Múltipla"
   ]
  },
  {
   "cell_type": "code",
   "execution_count": null,
   "id": "b7c68465",
   "metadata": {},
   "outputs": [],
   "source": [
    "# Variáveis para armazenar as métricas\n",
    "mae_lr, rmse_lr, r2_lr, residuals_lr = [], [], [], []\n",
    "\n",
    "# Treinar e avaliar o modelo de Regressão Linear Múltipla com KFold\n",
    "for train_index, test_index in kf.split(X):\n",
    "    X_train, X_test = X.iloc[train_index], X.iloc[test_index]\n",
    "    y_train, y_test = y.iloc[train_index], y.iloc[test_index]\n",
    "    pipeline_lrm.fit(X_train, y_train)\n",
    "    y_pred = pipeline_lrm.predict(X_test)\n",
    "    mae_lr.append(mean_absolute_error(y_test, y_pred))\n",
    "    rmse_lr.append(np.sqrt(mean_squared_error(y_test, y_pred)))\n",
    "    r2_lr.append(r2_score(y_test, y_pred))\n",
    "    residuals_lr.append(y_test - y_pred)\n",
    "\n",
    "# ---------------- Resultados globais ----------------\n",
    "print(f\"{'\\nModelo':<30}{'MAE':>10}{'RMSE':>10}{'R2':>10}\")\n",
    "print(f\"{'Regressão Linear Múltipla':<30}{np.mean(mae_lr):>10.2f}{np.mean(rmse_lr):>10.2f}{np.mean(r2_lr):>10.2f}\")\n",
    "\n",
    "# ---------------- Métricas por fold ----------------\n",
    "print(\"\\nMétricas por fold:\")\n",
    "for i, (mae, rmse, r2) in enumerate(zip(mae_lr, rmse_lr, r2_lr), 1):\n",
    "    print(f\"Fold {i}: MAE = {mae:.2f} | RMSE = {rmse:.2f} | R2 = {r2:.2f}\")"
   ]
  },
  {
   "cell_type": "markdown",
   "id": "8783a195",
   "metadata": {},
   "source": [
    "#### Visualização: reta da regressão + distribuição dos erros"
   ]
  },
  {
   "cell_type": "code",
   "execution_count": null,
   "id": "a611b10b",
   "metadata": {},
   "outputs": [],
   "source": [
    "# ---------------- Equações do modelo ----------------\n",
    "# Ajustar o modelo aos dados completos para obter coeficientes finais\n",
    "pipeline_lrm.fit(X, y)\n",
    "coefs = pipeline_lrm.named_steps['model'].coef_\n",
    "intercept = pipeline_lrm.named_steps['model'].intercept_\n",
    "feature_names = (\n",
    "    numeric_cols +\n",
    "    list(pipeline_lrm.named_steps['preprocessor'].transformers_[1][1].get_feature_names_out(categorical_cols))\n",
    ")\n",
    "\n",
    "# Equação APENAS com variáveis numéricas (mas o modelo inclui categóricas)\n",
    "num_indices = [i for i, f in enumerate(feature_names) if f in numeric_cols]\n",
    "equacao_numericas = \"y = {:.2f} + \".format(intercept)\n",
    "for i in num_indices:\n",
    "    equacao_numericas += \"{:.2f} * {} + \".format(coefs[i], feature_names[i])\n",
    "equacao_numericas = equacao_numericas.rstrip(\" +\")\n",
    "print(\"\\nEquação (apenas variáveis numéricas):\")\n",
    "print(equacao_numericas)"
   ]
  },
  {
   "cell_type": "code",
   "execution_count": null,
   "id": "b69ec3c9",
   "metadata": {},
   "outputs": [],
   "source": [
    "# ---------------- Visualização da Distribuição dos Erros ----------------\n",
    "fig, axs = plt.subplots(1, 3, figsize=(15,4))\n",
    "axs[0].boxplot(mae_lr)\n",
    "axs[0].set_title('MAE ')\n",
    "axs[1].boxplot(rmse_lr)\n",
    "axs[1].set_title('RMSE')\n",
    "axs[2].boxplot(r2_lr)\n",
    "axs[2].set_title('R2')\n",
    "plt.tight_layout()\n",
    "plt.show()"
   ]
  },
  {
   "cell_type": "code",
   "execution_count": null,
   "id": "7b44b4bb",
   "metadata": {},
   "outputs": [],
   "source": [
    "# ---------------- Coeficientes do modelo ----------------\n",
    "coef_df = pd.DataFrame({\n",
    "    'Variável': feature_names,\n",
    "    'Coeficiente': coefs\n",
    "})\n",
    "\n",
    "# Separar coeficientes numéricos e categóricos\n",
    "coef_num = coef_df[coef_df['Variável'].isin(numeric_cols)]\n",
    "coef_cat = coef_df[~coef_df['Variável'].isin(numeric_cols)]\n",
    "\n",
    "# Ordenar coeficientes categóricos por valor absoluto\n",
    "coef_cat['AbsCoef'] = coef_cat['Coeficiente'].abs()\n",
    "coef_cat = coef_cat.sort_values(by='AbsCoef', ascending=False)\n",
    "\n",
    "print(\"\\nCoeficientes das variáveis numéricas:\\n\")\n",
    "print(coef_num[['Variável', 'Coeficiente']].to_string(index=False))\n",
    "\n",
    "print(\"\\nTop 10 coeficientes das variáveis categóricas:\\n\")\n",
    "print(coef_cat[['Variável', 'Coeficiente']].head(10).to_string(index=False))"
   ]
  },
  {
   "cell_type": "markdown",
   "id": "094fd112",
   "metadata": {},
   "source": [
    "## b) Árvore de regressão com otimização dos parâmetros do modelo"
   ]
  },
  {
   "cell_type": "code",
   "execution_count": null,
   "id": "a5fa7577",
   "metadata": {},
   "outputs": [],
   "source": [
    "# ---------------- Árvore de Regressão (com otimização de parâmetros) ----------------\n",
    "pipeline_tree = Pipeline(steps=[\n",
    "    ('preprocessor', preprocessor),\n",
    "    ('regressor', DecisionTreeRegressor(random_state=42))\n",
    "])\n",
    "\n",
    "param_grid = {\n",
    "    'regressor__max_depth': [2, 3, 4, 5, 6, 8, 10, None],\n",
    "    'regressor__min_samples_split': [2, 4, 6, 8, 10],\n",
    "    'regressor__min_samples_leaf': [1, 2, 4, 6]\n",
    "}\n",
    "\n",
    "grid_search = GridSearchCV(\n",
    "    pipeline_tree,\n",
    "    param_grid,\n",
    "    cv=kf,\n",
    "    scoring='neg_mean_squared_error',\n",
    "    n_jobs=-1\n",
    ")\n",
    "grid_search.fit(X, y)\n",
    "\n",
    "print(\"\\nMelhores parâmetros da árvore de regressão:\")\n",
    "print(grid_search.best_params_)"
   ]
  },
  {
   "cell_type": "markdown",
   "id": "24f1aff8",
   "metadata": {},
   "source": [
    "#### Treino do modelo de Árvore de Regressão"
   ]
  },
  {
   "cell_type": "code",
   "execution_count": null,
   "id": "4c8930b0",
   "metadata": {},
   "outputs": [],
   "source": [
    "# Resultados da árvore de regressão\n",
    "mae_tree, rmse_tree, r2_tree, residuals_tree = [], [], [], []\n",
    "best_params = grid_search.best_params_\n",
    "\n",
    "# Treino e avaliação da árvore de regressão com os melhores parâmetros\n",
    "for train_index, test_index in kf.split(X):\n",
    "    X_train, X_test = X.iloc[train_index], X.iloc[test_index]\n",
    "    y_train, y_test = y.iloc[train_index], y.iloc[test_index]\n",
    "    tree = Pipeline(steps=[\n",
    "        ('preprocessor', preprocessor),\n",
    "        ('regressor', DecisionTreeRegressor(\n",
    "            random_state=42,\n",
    "            max_depth=best_params['regressor__max_depth'],\n",
    "            min_samples_split=best_params['regressor__min_samples_split'],\n",
    "            min_samples_leaf=best_params['regressor__min_samples_leaf']\n",
    "        ))\n",
    "    ])\n",
    "    tree.fit(X_train, y_train)\n",
    "    y_pred = tree.predict(X_test)\n",
    "    mae_tree.append(mean_absolute_error(y_test, y_pred))\n",
    "    rmse_tree.append(np.sqrt(mean_squared_error(y_test, y_pred)))\n",
    "    r2_tree.append(r2_score(y_test, y_pred))\n",
    "    residuals_tree.append(y_test - y_pred)\n",
    "\n",
    "print(f\"\\n{'Árvore de Regressão':<30}{'MAE':>10}{'RMSE':>10}{'R2':>10}\")\n",
    "print(f\"{'':<30}{np.mean(mae_tree):>10.2f}{np.mean(rmse_tree):>10.2f}{np.mean(r2_tree):>10.2f}\")\n",
    "\n",
    "print(\"\\nMétricas por fold (Árvore de Regressão):\")\n",
    "for i, (mae, rmse, r2) in enumerate(zip(mae_tree, rmse_tree, r2_tree), 1):\n",
    "    print(f\"Fold {i}: MAE = {mae:.2f} | RMSE = {rmse:.2f} | R2 = {r2:.2f}\")"
   ]
  },
  {
   "cell_type": "markdown",
   "id": "9444f563",
   "metadata": {},
   "source": [
    "#### Visualização: Árvore de Regressão"
   ]
  },
  {
   "cell_type": "code",
   "execution_count": null,
   "id": "93bbdc94",
   "metadata": {},
   "outputs": [],
   "source": [
    "# Ajustar a árvore final aos dados completos para visualização\n",
    "final_tree = Pipeline(steps=[\n",
    "    ('preprocessor', preprocessor),\n",
    "    ('regressor', DecisionTreeRegressor(\n",
    "        random_state=42,\n",
    "        max_depth=best_params['regressor__max_depth'],\n",
    "        min_samples_split=best_params['regressor__min_samples_split'],\n",
    "        min_samples_leaf=best_params['regressor__min_samples_leaf']\n",
    "    ))\n",
    "])\n",
    "final_tree.fit(X, y)\n",
    "\n",
    "plt.figure(figsize=(18, 8))\n",
    "plot_tree(\n",
    "    final_tree.named_steps['regressor'],\n",
    "    feature_names=(\n",
    "        numeric_cols +\n",
    "        list(final_tree.named_steps['preprocessor'].transformers_[1][1].get_feature_names_out(categorical_cols))\n",
    "    ),\n",
    "    filled=True,\n",
    "    rounded=True,\n",
    "    max_depth=3,  # Mostra apenas os primeiros níveis para facilitar leitura\n",
    "    fontsize=10\n",
    ")\n",
    "plt.title(\"Árvore de Regressão Otimizada (níveis iniciais)\")\n",
    "plt.show()"
   ]
  },
  {
   "cell_type": "markdown",
   "id": "0f713b46",
   "metadata": {},
   "source": [
    "## c) SVM com otimização do kernel"
   ]
  },
  {
   "cell_type": "markdown",
   "id": "aaaacac3",
   "metadata": {},
   "source": [
    "## d) Rede neuronal com otimização da configuração da rede"
   ]
  }
 ],
 "metadata": {
  "kernelspec": {
   "display_name": "base",
   "language": "python",
   "name": "python3"
  },
  "language_info": {
   "codemirror_mode": {
    "name": "ipython",
    "version": 3
   },
   "file_extension": ".py",
   "mimetype": "text/x-python",
   "name": "python",
   "nbconvert_exporter": "python",
   "pygments_lexer": "ipython3",
   "version": "3.12.7"
  }
 },
 "nbformat": 4,
 "nbformat_minor": 5
}
