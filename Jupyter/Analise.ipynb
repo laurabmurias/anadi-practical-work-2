{
 "cells": [
  {
   "cell_type": "code",
   "execution_count": 20,
   "id": "06c52d7a",
   "metadata": {},
   "outputs": [],
   "source": [
    "import warnings\n",
    "warnings.filterwarnings(\"ignore\")\n",
    "\n",
    "import pandas as pd"
   ]
  },
  {
   "cell_type": "markdown",
   "id": "694bd873",
   "metadata": {},
   "source": [
    "## 4.1.1 Carregar o ficheiro “AIRPOL_data.csv” e verificar a sua dimensão e obtenha um sumário dos dados."
   ]
  },
  {
   "cell_type": "code",
   "execution_count": 21,
   "id": "45a47f50",
   "metadata": {},
   "outputs": [],
   "source": [
    "try:\n",
    "    df = pd.read_csv('../AIRPOL_data.csv' , sep=';')\n",
    "except Exception as e:\n",
    "    print(\"Erro ao ler o arquivo:\", e)\n",
    "    import sys; sys.exit(1)"
   ]
  },
  {
   "cell_type": "code",
   "execution_count": 22,
   "id": "69b337da",
   "metadata": {},
   "outputs": [],
   "source": [
    "# Importação de dados\n",
    "df = pd.read_csv('../AIRPOL_data.csv' , sep=';')"
   ]
  },
  {
   "cell_type": "code",
   "execution_count": 23,
   "id": "ace52811",
   "metadata": {},
   "outputs": [
    {
     "name": "stdout",
     "output_type": "stream",
     "text": [
      "Dimensão do dataset (linhas x colunas):\n",
      "(49140, 8)\n"
     ]
    }
   ],
   "source": [
    "# Mostrar a dimensão do dataset (número de linhas e colunas)\n",
    "print(\"Dimensão do dataset (linhas x colunas):\")\n",
    "print(df.shape)"
   ]
  },
  {
   "cell_type": "code",
   "execution_count": 24,
   "id": "01d2e3a0",
   "metadata": {},
   "outputs": [
    {
     "name": "stdout",
     "output_type": "stream",
     "text": [
      "\n",
      "Informações sobre os dados:\n",
      "<class 'pandas.core.frame.DataFrame'>\n",
      "RangeIndex: 49140 entries, 0 to 49139\n",
      "Data columns (total 8 columns):\n",
      " #   Column                        Non-Null Count  Dtype \n",
      "---  ------                        --------------  ----- \n",
      " 0   Country                       49140 non-null  object\n",
      " 1   NUTS_Code                     49140 non-null  object\n",
      " 2   Air_Pollutant                 49140 non-null  object\n",
      " 3   Outcome                       49140 non-null  object\n",
      " 4   Affected_Population           49140 non-null  object\n",
      " 5   Populated_Area[km2]           49140 non-null  object\n",
      " 6   Air_Pollution_Average[ug/m3]  49140 non-null  object\n",
      " 7   Value                         49140 non-null  object\n",
      "dtypes: object(8)\n",
      "memory usage: 3.0+ MB\n",
      "None\n"
     ]
    }
   ],
   "source": [
    "# Mostrar informações sobre os dados (tipos e valores nulos)\n",
    "print(\"\\nInformações sobre os dados:\")\n",
    "print(df.info())"
   ]
  },
  {
   "cell_type": "code",
   "execution_count": 25,
   "id": "6ee2695f",
   "metadata": {},
   "outputs": [
    {
     "name": "stdout",
     "output_type": "stream",
     "text": [
      "\n",
      "Estatísticas descritivas:\n",
      "        Country NUTS_Code Air_Pollutant Outcome Affected_Population  \\\n",
      "count     49140     49140         49140   49140               49140   \n",
      "unique       42      1755             3       6                4863   \n",
      "top     Germany        BA         PM2.5  Asthma          1072811,00   \n",
      "freq      13224       116         29682   10254                  92   \n",
      "\n",
      "       Populated_Area[km2] Air_Pollution_Average[ug/m3]  Value  \n",
      "count                49140                        49140  49140  \n",
      "unique                1789                          570   2711  \n",
      "top                  56,80                         8,50   0,00  \n",
      "freq                   116                          999   7889  \n"
     ]
    }
   ],
   "source": [
    "# Mostrar estatísticas descritivas (média, desvio padrão, etc.)\n",
    "print(\"\\nEstatísticas descritivas:\")\n",
    "print(df.describe())"
   ]
  },
  {
   "cell_type": "code",
   "execution_count": 27,
   "id": "b05bfc61",
   "metadata": {},
   "outputs": [
    {
     "name": "stdout",
     "output_type": "stream",
     "text": [
      "\n",
      "Valores NaN por coluna:\n",
      "Country                         0\n",
      "NUTS_Code                       0\n",
      "Air_Pollutant                   0\n",
      "Outcome                         0\n",
      "Affected_Population             0\n",
      "Populated_Area[km2]             0\n",
      "Air_Pollution_Average[ug/m3]    0\n",
      "Value                           0\n",
      "dtype: int64\n"
     ]
    }
   ],
   "source": [
    "# Mostar quanto NaN há por coluna\n",
    "print(\"\\nValores NaN por coluna:\")\n",
    "print(df.isna().sum())"
   ]
  }
 ],
 "metadata": {
  "kernelspec": {
   "display_name": "base",
   "language": "python",
   "name": "python3"
  },
  "language_info": {
   "codemirror_mode": {
    "name": "ipython",
    "version": 3
   },
   "file_extension": ".py",
   "mimetype": "text/x-python",
   "name": "python",
   "nbconvert_exporter": "python",
   "pygments_lexer": "ipython3",
   "version": "3.12.7"
  }
 },
 "nbformat": 4,
 "nbformat_minor": 5
}
