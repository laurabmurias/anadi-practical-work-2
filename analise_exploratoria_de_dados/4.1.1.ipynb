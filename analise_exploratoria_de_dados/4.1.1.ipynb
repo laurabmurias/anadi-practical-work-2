{
 "cells": [
  {
   "cell_type": "code",
   "execution_count": null,
   "id": "06c52d7a",
   "metadata": {},
   "outputs": [],
   "source": [
    "import pandas as pd"
   ]
  },
  {
   "cell_type": "code",
   "execution_count": null,
   "id": "69b337da",
   "metadata": {},
   "outputs": [],
   "source": [
    "# Importação de dados\n",
    "df = pd.read_csv('input/AIRPOL_data.csv' , sep=';')"
   ]
  },
  {
   "cell_type": "code",
   "execution_count": null,
   "id": "ace52811",
   "metadata": {},
   "outputs": [],
   "source": [
    "# Mostrar a dimensão do dataset (número de linhas e colunas)\n",
    "print(\"Dimensão do dataset (linhas x colunas):\")\n",
    "print(df.shape)"
   ]
  },
  {
   "cell_type": "code",
   "execution_count": null,
   "id": "01d2e3a0",
   "metadata": {},
   "outputs": [],
   "source": [
    "# Mostrar informações sobre os dados (tipos e valores nulos)\n",
    "print(\"\\nInformações sobre os dados:\")\n",
    "print(df.info())"
   ]
  },
  {
   "cell_type": "code",
   "execution_count": null,
   "id": "6ee2695f",
   "metadata": {},
   "outputs": [],
   "source": [
    "# Mostrar estatísticas descritivas (média, desvio padrão, etc.)\n",
    "print(\"\\nEstatísticas descritivas:\")\n",
    "print(df.describe())"
   ]
  },
  {
   "cell_type": "code",
   "execution_count": null,
   "id": "b05bfc61",
   "metadata": {},
   "outputs": [],
   "source": [
    "# Mostar quanto NaN há por coluna\n",
    "print(\"\\nValores NaN por coluna:\")\n",
    "print(df.isna().sum())"
   ]
  }
 ],
 "metadata": {
  "kernelspec": {
   "display_name": "Python 3",
   "language": "python",
   "name": "python3"
  },
  "language_info": {
   "codemirror_mode": {
    "name": "ipython",
    "version": 3
   },
   "file_extension": ".py",
   "mimetype": "text/x-python",
   "name": "python",
   "nbconvert_exporter": "python",
   "pygments_lexer": "ipython3",
   "version": "3.12.9"
  }
 },
 "nbformat": 4,
 "nbformat_minor": 5
}
