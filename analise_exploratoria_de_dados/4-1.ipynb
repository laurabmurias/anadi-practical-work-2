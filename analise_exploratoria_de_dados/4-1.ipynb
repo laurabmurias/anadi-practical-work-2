{
 "cells": [
  {
   "cell_type": "code",
   "execution_count": null,
   "id": "06c52d7a",
   "metadata": {},
   "outputs": [],
   "source": [
    "import warnings\n",
    "warnings.filterwarnings(\"ignore\")\n",
    "\n",
    "import pandas as pd"
   ]
  },
  {
   "cell_type": "markdown",
   "id": "694bd873",
   "metadata": {},
   "source": [
    "## 4.1.1 Carregar o ficheiro “AIRPOL_data.csv” e verificar a sua dimensão e obtenha um sumário dos dados."
   ]
  },
  {
   "cell_type": "code",
   "execution_count": null,
   "id": "45a47f50",
   "metadata": {},
   "outputs": [],
   "source": [
    "try:\n",
    "    df = pd.read_csv('input/AIRPOL_data.csv' , sep=';')\n",
    "except Exception as e:\n",
    "    print(\"Erro ao ler o arquivo:\", e)\n",
    "    import sys; sys.exit(1)"
   ]
  },
  {
   "cell_type": "code",
   "execution_count": null,
   "id": "69b337da",
   "metadata": {},
   "outputs": [],
   "source": [
    "# Importação de dados\n",
    "df = pd.read_csv('input/AIRPOL_data.csv' , sep=';')"
   ]
  },
  {
   "cell_type": "code",
   "execution_count": null,
   "id": "ace52811",
   "metadata": {},
   "outputs": [],
   "source": [
    "# Mostrar a dimensão do dataset (número de linhas e colunas)\n",
    "print(\"Dimensão do dataset (linhas x colunas):\")\n",
    "print(df.shape)"
   ]
  },
  {
   "cell_type": "code",
   "execution_count": null,
   "id": "01d2e3a0",
   "metadata": {},
   "outputs": [],
   "source": [
    "# Mostrar informações sobre os dados (tipos e valores nulos)\n",
    "print(\"\\nInformações sobre os dados:\")\n",
    "print(df.info())"
   ]
  },
  {
   "cell_type": "code",
   "execution_count": null,
   "id": "6ee2695f",
   "metadata": {},
   "outputs": [],
   "source": [
    "# Mostrar estatísticas descritivas (média, desvio padrão, etc.)\n",
    "print(\"\\nEstatísticas descritivas:\")\n",
    "print(df.describe())"
   ]
  },
  {
   "cell_type": "code",
   "execution_count": null,
   "id": "b05bfc61",
   "metadata": {},
   "outputs": [],
   "source": [
    "# Mostar quanto NaN há por coluna\n",
    "print(\"\\nValores NaN por coluna:\")\n",
    "print(df.isna().sum())"
   ]
  },
  {
   "cell_type": "markdown",
   "id": "be8839d0",
   "metadata": {},
   "source": [
    "## 4.1.3: Realizar o pré-processamento dos dados."
   ]
  },
  {
   "cell_type": "code",
   "execution_count": null,
   "id": "d870b568",
   "metadata": {},
   "outputs": [],
   "source": [
    "################################ Pre-processamento de Dados #######################################\n",
    "# Eliminar colunas sem dados\n",
    "df.dropna(axis=1, how='all', inplace=True)\n",
    "\n",
    "# Identificar colunas categóricas e numéricas\n",
    "categorical_cols = ['Country', 'NUTS_Code', 'Air_Pollutant', 'Outcome']\n",
    "numeric_cols = ['Affected_Population', 'Populated_Area[km2]', 'Air_Pollution_Average[ug/m3]']\n",
    "\n",
    "# Corrigir colunas numéricas lidas como string (com vírgula)\n",
    "for col in numeric_cols:\n",
    "    df[col] = df[col].str.replace(',', '.').astype(float)\n",
    "\n",
    "# Renomear 'Value' para 'Premature_Deaths'\n",
    "df.rename(columns={'Value': 'Premature_Deaths'}, inplace=True)\n",
    "\n",
    "# Corrigir Premature_Deaths para ser numérico\n",
    "df['Premature_Deaths'] = df['Premature_Deaths'].str.replace(',', '.').astype(float)\n",
    "\n",
    "###################################################################################################"
   ]
  }
 ],
 "metadata": {
  "kernelspec": {
   "display_name": "Python 3",
   "language": "python",
   "name": "python3"
  },
  "language_info": {
   "codemirror_mode": {
    "name": "ipython",
    "version": 3
   },
   "file_extension": ".py",
   "mimetype": "text/x-python",
   "name": "python",
   "nbconvert_exporter": "python",
   "pygments_lexer": "ipython3",
   "version": "3.12.9"
  }
 },
 "nbformat": 4,
 "nbformat_minor": 5
}
