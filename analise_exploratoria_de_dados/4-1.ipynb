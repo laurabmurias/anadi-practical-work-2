{
 "cells": [
  {
   "cell_type": "code",
   "execution_count": null,
   "id": "06c52d7a",
   "metadata": {},
   "outputs": [],
   "source": [
    "import warnings\n",
    "warnings.filterwarnings(\"ignore\")\n",
    "\n",
    "import pandas as pd"
   ]
  },
  {
   "cell_type": "markdown",
   "id": "694bd873",
   "metadata": {},
   "source": [
    "## 4.1.1 Carregar o ficheiro “AIRPOL_data.csv” e verificar a sua dimensão e obtenha um sumário dos dados."
   ]
  },
  {
   "cell_type": "code",
   "execution_count": 10,
   "id": "45a47f50",
   "metadata": {},
   "outputs": [],
   "source": [
    "try:\n",
    "    df = pd.read_csv('../AIRPOL_data.csv' , sep=';')\n",
    "except Exception as e:\n",
    "    print(\"Erro ao ler o arquivo:\", e)\n",
    "    import sys; sys.exit(1)"
   ]
  },
  {
   "cell_type": "code",
   "execution_count": 12,
   "id": "69b337da",
   "metadata": {},
   "outputs": [],
   "source": [
    "# Importação de dados\n",
    "df = pd.read_csv('../AIRPOL_data.csv' , sep=';')"
   ]
  },
  {
   "cell_type": "code",
   "execution_count": 13,
   "id": "ace52811",
   "metadata": {},
   "outputs": [
    {
     "name": "stdout",
     "output_type": "stream",
     "text": [
      "Dimensão do dataset (linhas x colunas):\n",
      "(49140, 16)\n"
     ]
    }
   ],
   "source": [
    "# Mostrar a dimensão do dataset (número de linhas e colunas)\n",
    "print(\"Dimensão do dataset (linhas x colunas):\")\n",
    "print(df.shape)"
   ]
  },
  {
   "cell_type": "code",
   "execution_count": 14,
   "id": "01d2e3a0",
   "metadata": {},
   "outputs": [
    {
     "name": "stdout",
     "output_type": "stream",
     "text": [
      "\n",
      "Informações sobre os dados:\n",
      "<class 'pandas.core.frame.DataFrame'>\n",
      "RangeIndex: 49140 entries, 0 to 49139\n",
      "Data columns (total 16 columns):\n",
      " #   Column                        Non-Null Count  Dtype  \n",
      "---  ------                        --------------  -----  \n",
      " 0   Country                       49140 non-null  object \n",
      " 1   NUTS_Code                     49140 non-null  object \n",
      " 2   Air_Pollutant                 49140 non-null  object \n",
      " 3   Outcome                       49140 non-null  object \n",
      " 4   Affected_Population           49140 non-null  object \n",
      " 5   Populated_Area[km2]           49140 non-null  object \n",
      " 6   Air_Pollution_Average[ug/m3]  49140 non-null  object \n",
      " 7   Value                         49140 non-null  object \n",
      " 8   Unnamed: 8                    0 non-null      float64\n",
      " 9   Unnamed: 9                    0 non-null      float64\n",
      " 10  Unnamed: 10                   0 non-null      float64\n",
      " 11  Unnamed: 11                   0 non-null      float64\n",
      " 12  Unnamed: 12                   0 non-null      float64\n",
      " 13  Unnamed: 13                   0 non-null      float64\n",
      " 14  Unnamed: 14                   0 non-null      float64\n",
      " 15  Unnamed: 15                   0 non-null      float64\n",
      "dtypes: float64(8), object(8)\n",
      "memory usage: 6.0+ MB\n",
      "None\n"
     ]
    }
   ],
   "source": [
    "# Mostrar informações sobre os dados (tipos e valores nulos)\n",
    "print(\"\\nInformações sobre os dados:\")\n",
    "print(df.info())"
   ]
  },
  {
   "cell_type": "code",
   "execution_count": 15,
   "id": "6ee2695f",
   "metadata": {},
   "outputs": [
    {
     "name": "stdout",
     "output_type": "stream",
     "text": [
      "\n",
      "Estatísticas descritivas:\n",
      "       Unnamed: 8  Unnamed: 9  Unnamed: 10  Unnamed: 11  Unnamed: 12  \\\n",
      "count         0.0         0.0          0.0          0.0          0.0   \n",
      "mean          NaN         NaN          NaN          NaN          NaN   \n",
      "std           NaN         NaN          NaN          NaN          NaN   \n",
      "min           NaN         NaN          NaN          NaN          NaN   \n",
      "25%           NaN         NaN          NaN          NaN          NaN   \n",
      "50%           NaN         NaN          NaN          NaN          NaN   \n",
      "75%           NaN         NaN          NaN          NaN          NaN   \n",
      "max           NaN         NaN          NaN          NaN          NaN   \n",
      "\n",
      "       Unnamed: 13  Unnamed: 14  Unnamed: 15  \n",
      "count          0.0          0.0          0.0  \n",
      "mean           NaN          NaN          NaN  \n",
      "std            NaN          NaN          NaN  \n",
      "min            NaN          NaN          NaN  \n",
      "25%            NaN          NaN          NaN  \n",
      "50%            NaN          NaN          NaN  \n",
      "75%            NaN          NaN          NaN  \n",
      "max            NaN          NaN          NaN  \n"
     ]
    }
   ],
   "source": [
    "# Mostrar estatísticas descritivas (média, desvio padrão, etc.)\n",
    "print(\"\\nEstatísticas descritivas:\")\n",
    "print(df.describe())"
   ]
  },
  {
   "cell_type": "code",
   "execution_count": 16,
   "id": "b05bfc61",
   "metadata": {},
   "outputs": [
    {
     "name": "stdout",
     "output_type": "stream",
     "text": [
      "\n",
      "Valores NaN por coluna:\n",
      "Country                             0\n",
      "NUTS_Code                           0\n",
      "Air_Pollutant                       0\n",
      "Outcome                             0\n",
      "Affected_Population                 0\n",
      "Populated_Area[km2]                 0\n",
      "Air_Pollution_Average[ug/m3]        0\n",
      "Value                               0\n",
      "Unnamed: 8                      49140\n",
      "Unnamed: 9                      49140\n",
      "Unnamed: 10                     49140\n",
      "Unnamed: 11                     49140\n",
      "Unnamed: 12                     49140\n",
      "Unnamed: 13                     49140\n",
      "Unnamed: 14                     49140\n",
      "Unnamed: 15                     49140\n",
      "dtype: int64\n"
     ]
    }
   ],
   "source": [
    "# Mostar quanto NaN há por coluna\n",
    "print(\"\\nValores NaN por coluna:\")\n",
    "print(df.isna().sum())"
   ]
  },
  {
   "cell_type": "markdown",
   "id": "be8839d0",
   "metadata": {},
   "source": [
    "## 4.1.3: Realizar o pré-processamento dos dados."
   ]
  },
  {
   "cell_type": "code",
   "execution_count": 17,
   "id": "d870b568",
   "metadata": {},
   "outputs": [],
   "source": [
    "################################ Pre-processamento de Dados #######################################\n",
    "# Eliminar colunas sem dados\n",
    "df.dropna(axis=1, how='all', inplace=True)\n",
    "\n",
    "# Identificar colunas categóricas e numéricas\n",
    "categorical_cols = ['Country', 'NUTS_Code', 'Air_Pollutant', 'Outcome']\n",
    "numeric_cols = ['Affected_Population', 'Populated_Area[km2]', 'Air_Pollution_Average[ug/m3]']\n",
    "\n",
    "# Corrigir colunas numéricas lidas como string (com vírgula)\n",
    "for col in numeric_cols:\n",
    "    df[col] = df[col].str.replace(',', '.').astype(float)\n",
    "\n",
    "# Renomear 'Value' para 'Premature_Deaths'\n",
    "df.rename(columns={'Value': 'Premature_Deaths'}, inplace=True)\n",
    "\n",
    "# Corrigir Premature_Deaths para ser numérico\n",
    "df['Premature_Deaths'] = df['Premature_Deaths'].str.replace(',', '.').astype(float)\n",
    "\n",
    "###################################################################################################"
   ]
  },
  {
   "cell_type": "markdown",
   "id": "d7eb9290",
   "metadata": {},
   "source": [
    "## 4.1.4: Agrupar os países em quatro regiões."
   ]
  },
  {
   "cell_type": "code",
   "execution_count": 19,
   "id": "522b0de6",
   "metadata": {},
   "outputs": [
    {
     "name": "stdout",
     "output_type": "stream",
     "text": [
      "\n",
      "Contagem de países por região:\n",
      "Western Europe     22823\n",
      "Other              10570\n",
      "Southern Europe     9019\n",
      "Eastern Europe      4466\n",
      "Northern Europe     2262\n"
     ]
    }
   ],
   "source": [
    "# Definição das regiões\n",
    "western_europe = ['Austria', 'Belgium', 'France', 'Germany', 'Netherlands', 'Switzerland']\n",
    "eastern_europe = ['Poland', 'Czechia', 'Hungary']\n",
    "southern_europe = ['Greece', 'Spain', 'Italy', 'Portugal']\n",
    "northern_europe = ['Sweden', 'Denmark', 'Northern Europe','Finland']\n",
    "\n",
    "# Função para atribuir a região com base no país\n",
    "def assign_region(country):\n",
    "    if country in western_europe:\n",
    "        return 'Western Europe'\n",
    "    elif country in eastern_europe:\n",
    "        return 'Eastern Europe'\n",
    "    elif country in southern_europe:\n",
    "        return 'Southern Europe'\n",
    "    elif country in northern_europe:\n",
    "        return 'Northern Europe'\n",
    "    else:\n",
    "        return 'Other'\n",
    "\n",
    "# Criar nova coluna 'Region' no dataframe\n",
    "df['Region'] = df['Country'].apply(assign_region)\n",
    "\n",
    "# (Opcional) Verificar as contagens por região sem mostrar o nome da Series\n",
    "print(\"\\nContagem de países por região:\")\n",
    "print(df['Region'].value_counts().to_string(index=True, header=False))"
   ]
  }
 ],
 "metadata": {
  "kernelspec": {
   "display_name": "base",
   "language": "python",
   "name": "python3"
  },
  "language_info": {
   "codemirror_mode": {
    "name": "ipython",
    "version": 3
   },
   "file_extension": ".py",
   "mimetype": "text/x-python",
   "name": "python",
   "nbconvert_exporter": "python",
   "pygments_lexer": "ipython3",
   "version": "3.12.7"
  }
 },
 "nbformat": 4,
 "nbformat_minor": 5
}
