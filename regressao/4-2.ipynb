{
 "cells": [
  {
   "cell_type": "code",
   "execution_count": null,
   "id": "18fc90a1",
   "metadata": {},
   "outputs": [],
   "source": [
    "import warnings\n",
    "warnings.filterwarnings(\"ignore\")\n",
    "\n",
    "import pandas as pd\n",
    "import numpy as np\n",
    "import matplotlib.pyplot as plt\n",
    "\n",
    "from sklearn.model_selection import train_test_split, KFold, GridSearchCV\n",
    "from sklearn.neural_network import MLPClassifier, MLPRegressor\n",
    "from sklearn.preprocessing import StandardScaler, OneHotEncoder, LabelEncoder\n",
    "from sklearn.compose import ColumnTransformer\n",
    "from sklearn.pipeline import Pipeline\n",
    "from sklearn.metrics import classification_report, confusion_matrix, mean_squared_error, r2_score, mean_absolute_error\n",
    "from sklearn.linear_model import LinearRegression\n",
    "from sklearn.tree import DecisionTreeRegressor, plot_tree\n",
    "from sklearn.svm import SVR"
   ]
  },
  {
   "cell_type": "code",
   "execution_count": null,
   "id": "fd0efba1",
   "metadata": {},
   "outputs": [],
   "source": [
    "try:\n",
    "    df = pd.read_csv('input/AIRPOL_data.csv' , sep=';')\n",
    "except Exception as e:\n",
    "    print(\"Erro ao ler o arquivo:\", e)\n",
    "    import sys; sys.exit(1)"
   ]
  },
  {
   "cell_type": "code",
   "execution_count": null,
   "id": "7c16fdd1",
   "metadata": {},
   "outputs": [],
   "source": [
    "################################ Pre-processamento de Dados #######################################\n",
    "# Identificar colunas categóricas e numéricas\n",
    "categorical_cols = ['Country', 'NUTS_Code', 'Air_Pollutant', 'Outcome']\n",
    "numeric_cols = ['Affected_Population', 'Populated_Area[km2]', 'Air_Pollution_Average[ug/m3]']\n",
    "\n",
    "# Corrigir colunas numéricas lidas como string (com vírgula)\n",
    "for col in numeric_cols:\n",
    "    df[col] = df[col].str.replace(',', '.').astype(float)\n",
    "\n",
    "# Renomear 'Value' para 'Premature_Deaths'\n",
    "df.rename(columns={'Value': 'Premature_Deaths'}, inplace=True)\n",
    "\n",
    "# Corrigir Premature_Deaths para ser numérico\n",
    "df['Premature_Deaths'] = df['Premature_Deaths'].str.replace(',', '.').astype(float)\n",
    "\n",
    "###################################################################################################"
   ]
  },
  {
   "cell_type": "markdown",
   "id": "54ee4b7c",
   "metadata": {},
   "source": [
    "## 4.2.3 Desenvolva modelos para prever mortes prematuras (Premature_Deaths)"
   ]
  },
  {
   "cell_type": "code",
   "execution_count": null,
   "id": "1d0888ed",
   "metadata": {},
   "outputs": [],
   "source": [
    "# Filtragem por paises de interesse: Southern Europe\n",
    "countries_of_interest = ['Greece', 'Spain', 'Italy', 'Portugal']\n",
    "df_4_2_3 = df[df['Country'].isin(countries_of_interest)]\n",
    "df_4_2_3.reset_index(drop=True, inplace=True)\n",
    "\n",
    "# Definir X e y filtragem\n",
    "X = df_4_2_3.drop(columns=['Premature_Deaths'])\n",
    "y = df_4_2_3['Premature_Deaths']\n",
    "\n",
    "# Dividir os dados em conjuntos de treino e teste com KFold\n",
    "kf = KFold(n_splits=5, shuffle=True, random_state=42)"
   ]
  },
  {
   "cell_type": "code",
   "execution_count": null,
   "id": "8f14b717",
   "metadata": {},
   "outputs": [],
   "source": [
    "preprocessor = ColumnTransformer(\n",
    "    transformers=[\n",
    "        ('num', StandardScaler(), numeric_cols), # Normalização das colunas numéricas\n",
    "        ('cat', OneHotEncoder(), categorical_cols) # Codificação das colunas categóricas\n",
    "    ]\n",
    ")"
   ]
  },
  {
   "cell_type": "markdown",
   "id": "ab3103f1",
   "metadata": {},
   "source": [
    "### a) Regressão linear múltipla."
   ]
  },
  {
   "cell_type": "code",
   "execution_count": null,
   "id": "d6e8b42f",
   "metadata": {},
   "outputs": [],
   "source": [
    "# Regressão Linear Múltipla\n",
    "model_lr = LinearRegression()\n",
    "\n",
    "# Criar o pipeline para o modelo de Regressão Linear Múltipla\n",
    "pipeline_lr = Pipeline(steps=[\n",
    "    ('preprocessor', preprocessor),\n",
    "    ('model', model_lr)\n",
    "])\n",
    "\n",
    "# Listas para armazenar as métricas e resíduos\n",
    "mae_lr, rmse_lr, r2_lr, residuals_lr = [], [], [], []"
   ]
  },
  {
   "cell_type": "code",
   "execution_count": null,
   "id": "b7c68465",
   "metadata": {},
   "outputs": [],
   "source": [
    "# Treinar e avaliar o modelo de Regressão Linear Múltipla com KFold\n",
    "for train_index, test_index in kf.split(X):\n",
    "    X_train, X_test = X.iloc[train_index], X.iloc[test_index]\n",
    "    y_train, y_test = y.iloc[train_index], y.iloc[test_index]\n",
    "    pipeline_lr.fit(X_train, y_train)\n",
    "    y_pred = pipeline_lr.predict(X_test)\n",
    "    mae_lr.append(mean_absolute_error(y_test, y_pred))\n",
    "    rmse_lr.append(np.sqrt(mean_squared_error(y_test, y_pred)))\n",
    "    r2_lr.append(r2_score(y_test, y_pred))\n",
    "    residuals_lr.append(y_test - y_pred)\n",
    "\n",
    "# Exibir resultados em formato de tabela\n",
    "print(f\"{'\\nModelo':<30}{'MAE':>10}{'RMSE':>10}{'R2':>10}\")\n",
    "print(f\"{'Multiple Linear Regression':<30}{np.mean(mae_lr):>10.2f}{np.mean(rmse_lr):>10.2f}{np.mean(r2_lr):>10.2f}\")\n",
    "\n",
    "# Mostrar todas as métricas de todas as folds\n",
    "print(\"\\nMétricas por fold:\")\n",
    "for i, (mae, rmse, r2) in enumerate(zip(mae_lr, rmse_lr, r2_lr), 1):\n",
    "    print(f\"Fold {i}: MAE = {mae:.2f} | RMSE = {rmse:.2f} | R2 = {r2:.2f}\")"
   ]
  },
  {
   "cell_type": "code",
   "execution_count": null,
   "id": "fa761f7e",
   "metadata": {},
   "outputs": [],
   "source": [
    "# ---------------- Análise de Resíduos (para a primeira fold) ----------------\n",
    "plt.figure(figsize=(6,4))\n",
    "plt.scatter(range(len(residuals_lr[0])), residuals_lr[0])\n",
    "plt.axhline(0, color='red', linestyle='--')\n",
    "plt.title('Residuals (Fold 1)')\n",
    "plt.xlabel('Sample')\n",
    "plt.ylabel('Residual')\n",
    "plt.tight_layout()\n",
    "plt.show()"
   ]
  },
  {
   "cell_type": "code",
   "execution_count": null,
   "id": "b69ec3c9",
   "metadata": {},
   "outputs": [],
   "source": [
    "# ---------------- Visualização da Distribuição dos Erros ----------------\n",
    "fig, axs = plt.subplots(1, 3, figsize=(15,4))\n",
    "axs[0].boxplot(mae_lr)\n",
    "axs[0].set_title('MAE ')\n",
    "axs[1].boxplot(rmse_lr)\n",
    "axs[1].set_title('RMSE')\n",
    "axs[2].boxplot(r2_lr)\n",
    "axs[2].set_title('R2')\n",
    "plt.tight_layout()\n",
    "plt.show()"
   ]
  },
  {
   "cell_type": "code",
   "execution_count": null,
   "id": "7b44b4bb",
   "metadata": {},
   "outputs": [],
   "source": [
    "# ---------------- Coeficentes do Modelo de Regressão Linear ----------------\n",
    "# Ajustar o modelo de regressão linear com todo o conjunto de dados\n",
    "pipeline_lr.fit(X, y)\n",
    "# Extrair os coeficientes do modelo\n",
    "feature_names = (\n",
    "    numeric_cols +\n",
    "    list(pipeline_lr.named_steps['preprocessor'].transformers_[1][1].get_feature_names_out(categorical_cols))\n",
    ")\n",
    "coefs = pipeline_lr.named_steps['model'].coef_\n",
    "\n",
    "coef_df = pd.DataFrame({\n",
    "    'Feature': feature_names,\n",
    "    'Coefficient': coefs\n",
    "})\n",
    "\n",
    "# Separar coeficientes numéricos e categóricos\n",
    "numeric_coef_df = coef_df[coef_df['Feature'].isin(numeric_cols)]\n",
    "categorical_coef_df = coef_df[~coef_df['Feature'].isin(numeric_cols)]\n",
    "\n",
    "# Ordenar coeficientes numéricos\n",
    "categorical_coef_df['AbsCoefficient'] = categorical_coef_df['Coefficient'].abs()\n",
    "categorical_coef_df = categorical_coef_df.sort_values(by='AbsCoefficient', ascending=False)\n",
    "\n",
    "print(\"\\nCoeficientes das variáveis numéricas:\\n\")\n",
    "print(numeric_coef_df[['Feature', 'Coefficient']].to_string(index=False))\n",
    "\n",
    "print(\"\\nTop 10 coeficientes das variáveis categóricas:\\n\")\n",
    "print(categorical_coef_df[['Feature', 'Coefficient']].head(10).to_string(index=False))"
   ]
  }
 ],
 "metadata": {
  "kernelspec": {
   "display_name": "Python 3",
   "language": "python",
   "name": "python3"
  },
  "language_info": {
   "codemirror_mode": {
    "name": "ipython",
    "version": 3
   },
   "file_extension": ".py",
   "mimetype": "text/x-python",
   "name": "python",
   "nbconvert_exporter": "python",
   "pygments_lexer": "ipython3",
   "version": "3.12.9"
  }
 },
 "nbformat": 4,
 "nbformat_minor": 5
}
